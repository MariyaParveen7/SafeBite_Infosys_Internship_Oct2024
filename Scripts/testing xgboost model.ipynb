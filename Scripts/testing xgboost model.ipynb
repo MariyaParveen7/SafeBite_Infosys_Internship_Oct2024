{
 "cells": [
  {
   "cell_type": "code",
   "execution_count": 14,
   "id": "955e926c-a95b-43d0-a410-27394f2a3ba4",
   "metadata": {},
   "outputs": [],
   "source": [
    "import joblib \n",
    "import pandas as pd "
   ]
  },
  {
   "cell_type": "code",
   "execution_count": 15,
   "id": "b8e4b960-ccb7-45bd-b91a-8f3a1f91304c",
   "metadata": {},
   "outputs": [],
   "source": [
    "# Load the trained model and encoder\n",
    "loaded_encoder = joblib.load('ngsloo_encoder.pkl')\n",
    "loaded_xgb_model = joblib.load('ngsxgb_model.pkl')"
   ]
  },
  {
   "cell_type": "code",
   "execution_count": 16,
   "id": "9ed4d8ac-5da8-4ebe-9039-0fe5e6f5482b",
   "metadata": {},
   "outputs": [
    {
     "name": "stdout",
     "output_type": "stream",
     "text": [
      "                 Food Product Main Ingredient      Sweetener      Fat/Oil  \\\n",
      "0  Gluten-Free Chocolate Cake    Almond flour  Coconut sugar  Coconut oil   \n",
      "1              Chocolate Cake     Wheat flour          Sugar       Butter   \n",
      "\n",
      "                Seasoning     Allergens  Price ($)  Customer rating (Out of 5)  \n",
      "0  Vanilla extract, Cocoa          None       7.50                         4.5  \n",
      "1  Vanilla extract, Cocoa  Wheat, Dairy       5.75                         4.6  \n"
     ]
    }
   ],
   "source": [
    "example_data = pd.DataFrame({\n",
    "    \"Food Product\": ['Gluten-Free Chocolate Cake', 'Chocolate Cake'],\n",
    "    \"Main Ingredient\": ['Almond flour', 'Wheat flour'],\n",
    "    \"Sweetener\": ['Coconut sugar', 'Sugar'],\n",
    "    \"Fat/Oil\": ['Coconut oil', 'Butter'],\n",
    "    \"Seasoning\": ['Vanilla extract, Cocoa', 'Vanilla extract, Cocoa'],\n",
    "    \"Allergens\": ['None', 'Wheat, Dairy'],\n",
    "    \"Price ($)\": [7.50, 5.75],\n",
    "    \"Customer rating (Out of 5)\": [4.5, 4.6]\n",
    "})\n",
    "\n",
    "print(example_data)"
   ]
  },
  {
   "cell_type": "code",
   "execution_count": 17,
   "id": "f8cc6730-495a-4cd3-a850-20f9ae4c3695",
   "metadata": {},
   "outputs": [
    {
     "name": "stdout",
     "output_type": "stream",
     "text": [
      "Defaulting to user installation because normal site-packages is not writeableNote: you may need to restart the kernel to use updated packages.\n",
      "\n",
      "Requirement already satisfied: category-encoders in c:\\users\\mdhoz\\appdata\\roaming\\python\\python312\\site-packages (2.6.4)\n",
      "Requirement already satisfied: numpy>=1.14.0 in c:\\programdata\\anaconda3\\lib\\site-packages (from category-encoders) (1.26.4)\n",
      "Requirement already satisfied: scikit-learn>=0.20.0 in c:\\programdata\\anaconda3\\lib\\site-packages (from category-encoders) (1.4.2)\n",
      "Requirement already satisfied: scipy>=1.0.0 in c:\\programdata\\anaconda3\\lib\\site-packages (from category-encoders) (1.13.1)\n",
      "Requirement already satisfied: statsmodels>=0.9.0 in c:\\programdata\\anaconda3\\lib\\site-packages (from category-encoders) (0.14.2)\n",
      "Requirement already satisfied: pandas>=1.0.5 in c:\\programdata\\anaconda3\\lib\\site-packages (from category-encoders) (2.2.2)\n",
      "Requirement already satisfied: patsy>=0.5.1 in c:\\programdata\\anaconda3\\lib\\site-packages (from category-encoders) (0.5.6)\n",
      "Requirement already satisfied: python-dateutil>=2.8.2 in c:\\users\\mdhoz\\appdata\\roaming\\python\\python312\\site-packages (from pandas>=1.0.5->category-encoders) (2.9.0.post0)\n",
      "Requirement already satisfied: pytz>=2020.1 in c:\\programdata\\anaconda3\\lib\\site-packages (from pandas>=1.0.5->category-encoders) (2024.1)\n",
      "Requirement already satisfied: tzdata>=2022.7 in c:\\programdata\\anaconda3\\lib\\site-packages (from pandas>=1.0.5->category-encoders) (2023.3)\n",
      "Requirement already satisfied: six in c:\\users\\mdhoz\\appdata\\roaming\\python\\python312\\site-packages (from patsy>=0.5.1->category-encoders) (1.16.0)\n",
      "Requirement already satisfied: joblib>=1.2.0 in c:\\programdata\\anaconda3\\lib\\site-packages (from scikit-learn>=0.20.0->category-encoders) (1.4.2)\n",
      "Requirement already satisfied: threadpoolctl>=2.0.0 in c:\\programdata\\anaconda3\\lib\\site-packages (from scikit-learn>=0.20.0->category-encoders) (2.2.0)\n",
      "Requirement already satisfied: packaging>=21.3 in c:\\users\\mdhoz\\appdata\\roaming\\python\\python312\\site-packages (from statsmodels>=0.9.0->category-encoders) (24.1)\n"
     ]
    }
   ],
   "source": [
    "pip install category-encoders"
   ]
  },
  {
   "cell_type": "code",
   "execution_count": 18,
   "id": "fd79ab44-9c70-4209-9868-e3e3396b940c",
   "metadata": {},
   "outputs": [],
   "source": [
    "# Identify categorical columns\n",
    "categorical_columns = example_data.select_dtypes(include=['object']).columns\n",
    "\n",
    "# Transform the categorical columns using the loaded encoder\n",
    "example_data_encoded = loaded_encoder.transform(example_data[categorical_columns])\n",
    "\n",
    "# Combine the transformed data back with the original DataFrame\n",
    "example_data = pd.concat([example_data.drop(categorical_columns, axis=1), example_data_encoded], axis=1)\n"
   ]
  },
  {
   "cell_type": "code",
   "execution_count": 19,
   "id": "94cdf4bc-8a2d-4e0d-a43b-f393e293b5eb",
   "metadata": {},
   "outputs": [
    {
     "name": "stdout",
     "output_type": "stream",
     "text": [
      "Predictions on example data: [1 1]\n"
     ]
    }
   ],
   "source": [
    "predictions = loaded_xgb_model.predict(example_data)\n",
    "print(\"Predictions on example data:\", predictions)"
   ]
  },
  {
   "cell_type": "code",
   "execution_count": null,
   "id": "12478a6e-9172-40a1-84c1-b5d7174a7b56",
   "metadata": {},
   "outputs": [],
   "source": []
  }
 ],
 "metadata": {
  "kernelspec": {
   "display_name": "Python 3 (ipykernel)",
   "language": "python",
   "name": "python3"
  },
  "language_info": {
   "codemirror_mode": {
    "name": "ipython",
    "version": 3
   },
   "file_extension": ".py",
   "mimetype": "text/x-python",
   "name": "python",
   "nbconvert_exporter": "python",
   "pygments_lexer": "ipython3",
   "version": "3.12.4"
  }
 },
 "nbformat": 4,
 "nbformat_minor": 5
}
