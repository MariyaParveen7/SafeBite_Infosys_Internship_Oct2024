{
 "cells": [
  {
   "cell_type": "code",
   "execution_count": 1,
   "id": "a1113f28-e52f-47f5-94bf-572987c49cf1",
   "metadata": {},
   "outputs": [],
   "source": [
    "import pandas as pd"
   ]
  },
  {
   "cell_type": "code",
   "execution_count": 2,
   "id": "f5ebdeb9-9c2d-4d6d-ad48-cb17f12f526b",
   "metadata": {},
   "outputs": [],
   "source": [
    "data = pd.read_csv(r\"C:\\Users\\mdhoz\\Downloads\\Allergen_Status_of_Food_Products.csv\")\n"
   ]
  },
  {
   "cell_type": "code",
   "execution_count": 3,
   "id": "1d02a5bd-6015-4556-8453-acd940a6ed3a",
   "metadata": {},
   "outputs": [
    {
     "name": "stdout",
     "output_type": "stream",
     "text": [
      "Dataset Preview:\n",
      "          Food Product Main Ingredient Sweetener Fat/Oil Seasoning  \\\n",
      "0       Almond Cookies         Almonds     Sugar  Butter     Flour   \n",
      "1       Almond Cookies         Almonds     Sugar  Butter     Flour   \n",
      "2  Chicken Noodle Soup   Chicken broth       NaN     NaN      Salt   \n",
      "3  Chicken Noodle Soup   Chicken broth       NaN     NaN      Salt   \n",
      "4       Cheddar Cheese          Cheese       NaN     NaN      Salt   \n",
      "\n",
      "                Allergens  Price ($)  Customer rating (Out of 5) Prediction  \n",
      "0   Almonds, Wheat, Dairy      10.15                         3.1   Contains  \n",
      "1   Almonds, Wheat, Dairy       6.17                         4.5   Contains  \n",
      "2  Chicken, Wheat, Celery      19.65                         4.1   Contains  \n",
      "3  Chicken, Wheat, Celery      17.48                         4.7   Contains  \n",
      "4                   Dairy      10.83                         3.7   Contains  \n"
     ]
    }
   ],
   "source": [
    "# Display the first few rows of the dataset\n",
    "print(\"Dataset Preview:\")\n",
    "print(data.head())"
   ]
  },
  {
   "cell_type": "code",
   "execution_count": 4,
   "id": "e39c0436-4823-4659-a2d0-366ff3e29682",
   "metadata": {},
   "outputs": [
    {
     "name": "stdout",
     "output_type": "stream",
     "text": [
      "\n",
      "Dataset Information:\n",
      "<class 'pandas.core.frame.DataFrame'>\n",
      "RangeIndex: 399 entries, 0 to 398\n",
      "Data columns (total 9 columns):\n",
      " #   Column                      Non-Null Count  Dtype  \n",
      "---  ------                      --------------  -----  \n",
      " 0   Food Product                399 non-null    object \n",
      " 1   Main Ingredient             399 non-null    object \n",
      " 2   Sweetener                   119 non-null    object \n",
      " 3   Fat/Oil                     341 non-null    object \n",
      " 4   Seasoning                   379 non-null    object \n",
      " 5   Allergens                   251 non-null    object \n",
      " 6   Price ($)                   399 non-null    float64\n",
      " 7   Customer rating (Out of 5)  399 non-null    float64\n",
      " 8   Prediction                  398 non-null    object \n",
      "dtypes: float64(2), object(7)\n",
      "memory usage: 28.2+ KB\n",
      "None\n"
     ]
    }
   ],
   "source": [
    "# Display dataset info\n",
    "print(\"\\nDataset Information:\")\n",
    "print(data.info())"
   ]
  },
  {
   "cell_type": "code",
   "execution_count": 5,
   "id": "4ae9cd0c-0f30-4708-b57c-a86a6fa5c388",
   "metadata": {},
   "outputs": [
    {
     "name": "stdout",
     "output_type": "stream",
     "text": [
      "\n",
      "Missing Values:\n",
      "Food Product                    0\n",
      "Main Ingredient                 0\n",
      "Sweetener                     280\n",
      "Fat/Oil                        58\n",
      "Seasoning                      20\n",
      "Allergens                     148\n",
      "Price ($)                       0\n",
      "Customer rating (Out of 5)      0\n",
      "Prediction                      1\n",
      "dtype: int64\n"
     ]
    }
   ],
   "source": [
    "# Check for missing values\n",
    "print(\"\\nMissing Values:\")\n",
    "print(data.isnull().sum())"
   ]
  },
  {
   "cell_type": "code",
   "execution_count": 6,
   "id": "4bb0734c-68cd-46cb-ac10-f3533b77a3f7",
   "metadata": {},
   "outputs": [
    {
     "name": "stdout",
     "output_type": "stream",
     "text": [
      "Percentage of Missing Values:\n",
      " Food Product                   0.000000\n",
      "Main Ingredient                0.000000\n",
      "Sweetener                     70.175439\n",
      "Fat/Oil                       14.536341\n",
      "Seasoning                      5.012531\n",
      "Allergens                     37.092732\n",
      "Price ($)                      0.000000\n",
      "Customer rating (Out of 5)     0.000000\n",
      "Prediction                     0.250627\n",
      "dtype: float64\n",
      "\n",
      "Columns to drop (more than 50% missing): Index(['Sweetener'], dtype='object')\n",
      "\n",
      "Missing values after handling:\n",
      "Food Product                  0\n",
      "Main Ingredient               0\n",
      "Fat/Oil                       0\n",
      "Seasoning                     0\n",
      "Allergens                     0\n",
      "Price ($)                     0\n",
      "Customer rating (Out of 5)    0\n",
      "Prediction                    0\n",
      "dtype: int64\n"
     ]
    }
   ],
   "source": [
    "# Check the percentage of missing values for each column\n",
    "missing_percentage = data.isnull().mean() * 100\n",
    "print(\"Percentage of Missing Values:\\n\", missing_percentage)\n",
    "\n",
    "# Strategy: Drop columns with >50% missing values, fill others\n",
    "threshold = 50  # Define a threshold for acceptable missing values\n",
    "columns_to_drop = missing_percentage[missing_percentage > threshold].index\n",
    "print(\"\\nColumns to drop (more than 50% missing):\", columns_to_drop)\n",
    "\n",
    "# Drop columns with too many missing values\n",
    "data.drop(columns=columns_to_drop, inplace=True)\n",
    "\n",
    "# Fill missing values for numerical columns with mean\n",
    "numerical_cols = data.select_dtypes(include=['float64', 'int64']).columns\n",
    "data[numerical_cols] = data[numerical_cols].fillna(data[numerical_cols].mean())\n",
    "\n",
    "# Fill missing values for categorical columns with mode\n",
    "categorical_cols = data.select_dtypes(include=['object']).columns\n",
    "data[categorical_cols] = data[categorical_cols].fillna(data[categorical_cols].mode().iloc[0])\n",
    "\n",
    "# Verify no missing values remain\n",
    "print(\"\\nMissing values after handling:\")\n",
    "print(data.isnull().sum())"
   ]
  },
  {
   "cell_type": "code",
   "execution_count": 8,
   "id": "dbea18d5-bdf7-4c20-9d4e-9f5ea034eba0",
   "metadata": {},
   "outputs": [
    {
     "name": "stdout",
     "output_type": "stream",
     "text": [
      "Categorical Columns: Index([], dtype='object')\n"
     ]
    }
   ],
   "source": [
    "from sklearn.preprocessing import LabelEncoder\n",
    "\n",
    "# Identify categorical columns\n",
    "categorical_cols = data.select_dtypes(include=['object']).columns\n",
    "print(\"Categorical Columns:\", categorical_cols)\n"
   ]
  },
  {
   "cell_type": "code",
   "execution_count": 9,
   "id": "eb2f3a4b-e836-438c-a365-8a936380c0b8",
   "metadata": {},
   "outputs": [],
   "source": [
    "# Apply Label Encoding to categorical columns\n",
    "label_encoders = {}  # Store encoders for potential decoding later\n",
    "for col in categorical_cols:\n",
    "    le = LabelEncoder()\n",
    "    data[col] = le.fit_transform(data[col])\n",
    "    label_encoders[col] = le  # Save the encoder"
   ]
  },
  {
   "cell_type": "code",
   "execution_count": 10,
   "id": "dddf721d-62f3-4d81-bfb0-e0a65d04288a",
   "metadata": {},
   "outputs": [
    {
     "name": "stdout",
     "output_type": "stream",
     "text": [
      "\n",
      "Encoded Dataset Preview:\n",
      "    Food Product  Main Ingredient  Fat/Oil  Seasoning  Allergens  Price ($)  \\\n",
      "0              0                0        3         57          0      10.15   \n",
      "1              0                0        3         57          0       6.17   \n",
      "2             71               23       22        138          1      19.65   \n",
      "3             71               23       22        138          1      17.48   \n",
      "4             57               20       22        138          2      10.83   \n",
      "..           ...              ...      ...        ...        ...        ...   \n",
      "95           107               47       22        174          9       6.64   \n",
      "96           101               63        3          9          9       6.14   \n",
      "97           161               34        3        142         10      16.82   \n",
      "98            96               34       22         22         10       8.21   \n",
      "99            96               34       22         22         10       8.85   \n",
      "\n",
      "    Customer rating (Out of 5)  Prediction  \n",
      "0                          3.1           0  \n",
      "1                          4.5           0  \n",
      "2                          4.1           0  \n",
      "3                          4.7           0  \n",
      "4                          3.7           0  \n",
      "..                         ...         ...  \n",
      "95                         1.8           0  \n",
      "96                         1.4           0  \n",
      "97                         1.9           0  \n",
      "98                         1.7           0  \n",
      "99                         2.3           0  \n",
      "\n",
      "[100 rows x 8 columns]\n"
     ]
    }
   ],
   "source": [
    "# Verify encoding\n",
    "print(\"\\nEncoded Dataset Preview:\")\n",
    "print(data.head(100))"
   ]
  },
  {
   "cell_type": "code",
   "execution_count": 11,
   "id": "b63b5324-b9a5-41e6-9147-d82d51b5f887",
   "metadata": {},
   "outputs": [
    {
     "name": "stdout",
     "output_type": "stream",
     "text": [
      "\n",
      "Data Types After Encoding:\n",
      "Food Product                    int32\n",
      "Main Ingredient                 int32\n",
      "Fat/Oil                         int32\n",
      "Seasoning                       int32\n",
      "Allergens                       int32\n",
      "Price ($)                     float64\n",
      "Customer rating (Out of 5)    float64\n",
      "Prediction                      int32\n",
      "dtype: object\n"
     ]
    }
   ],
   "source": [
    "# Check data types to ensure all columns are numerical\n",
    "print(\"\\nData Types After Encoding:\")\n",
    "print(data.dtypes)"
   ]
  },
  {
   "cell_type": "code",
   "execution_count": 12,
   "id": "193edf27-7675-4c70-a649-a181c48fbce1",
   "metadata": {},
   "outputs": [
    {
     "name": "stdout",
     "output_type": "stream",
     "text": [
      "Class Distribution in Target Column:\n",
      "Prediction\n",
      "0    256\n",
      "1    143\n",
      "Name: count, dtype: int64\n"
     ]
    }
   ],
   "source": [
    "# Check class distribution in the target column\n",
    "target_column = 'Prediction'  # Replace with the actual target column name\n",
    "print(\"Class Distribution in Target Column:\")\n",
    "print(data[target_column].value_counts())"
   ]
  },
  {
   "cell_type": "code",
   "execution_count": 13,
   "id": "3676da42-55d6-4bc5-a7dd-6110dae9cc0b",
   "metadata": {},
   "outputs": [
    {
     "name": "stdout",
     "output_type": "stream",
     "text": [
      "Scale Pos Weight: 1.7902097902097902\n"
     ]
    }
   ],
   "source": [
    "# Calculate scale_pos_weight\n",
    "scale_pos_weight = len(data[data['Prediction'] == 0]) / len(data[data['Prediction'] == 1])\n",
    "print(f\"Scale Pos Weight: {scale_pos_weight}\")\n",
    "\n",
    "# Pass this parameter when initializing XGBoost\n",
    "import xgboost as xgb\n",
    "\n",
    "xgb_model = xgb.XGBClassifier(scale_pos_weight=scale_pos_weight, random_state=42)"
   ]
  },
  {
   "cell_type": "code",
   "execution_count": 14,
   "id": "8c694456-1e8e-48fe-a5b3-1d6a4f2ce5aa",
   "metadata": {},
   "outputs": [
    {
     "name": "stdout",
     "output_type": "stream",
     "text": [
      "Data Types:\n",
      "Food Product                    int32\n",
      "Main Ingredient                 int32\n",
      "Fat/Oil                         int32\n",
      "Seasoning                       int32\n",
      "Allergens                       int32\n",
      "Price ($)                     float64\n",
      "Customer rating (Out of 5)    float64\n",
      "Prediction                      int32\n",
      "dtype: object\n"
     ]
    }
   ],
   "source": [
    "print(\"Data Types:\")\n",
    "print(data.dtypes)\n",
    "\n",
    "# Ensure no object or string types remain in the dataset\n",
    "assert data.select_dtypes(include=['object']).shape[1] == 0, \"Categorical columns are still present!\"\n"
   ]
  },
  {
   "cell_type": "code",
   "execution_count": 15,
   "id": "f3468321-151e-4c89-b4e2-9f4cfeff50bc",
   "metadata": {},
   "outputs": [],
   "source": [
    "from sklearn.preprocessing import StandardScaler\n",
    "\n",
    "# Identify numerical columns\n",
    "numerical_cols = data.select_dtypes(include=['int64', 'float64']).columns\n",
    "\n",
    "# Apply scaling if necessary\n",
    "scaler = StandardScaler()\n",
    "data[numerical_cols] = scaler.fit_transform(data[numerical_cols])"
   ]
  },
  {
   "cell_type": "code",
   "execution_count": 16,
   "id": "66b49b90-56d3-4444-928f-85b7a7ae105f",
   "metadata": {},
   "outputs": [
    {
     "name": "stdout",
     "output_type": "stream",
     "text": [
      "Outliers detected in Price ($): 0\n",
      "Outliers detected in Customer rating (Out of 5): 0\n"
     ]
    }
   ],
   "source": [
    "# Detect outliers using IQR\n",
    "for col in numerical_cols:\n",
    "    Q1 = data[col].quantile(0.25)\n",
    "    Q3 = data[col].quantile(0.75)\n",
    "    IQR = Q3 - Q1\n",
    "    outliers = data[(data[col] < Q1 - 1.5 * IQR) | (data[col] > Q3 + 1.5 * IQR)]\n",
    "    print(f\"Outliers detected in {col}: {len(outliers)}\")"
   ]
  },
  {
   "cell_type": "code",
   "execution_count": 17,
   "id": "876d2de5-d0ac-4f82-a5b9-1d05d743c48c",
   "metadata": {},
   "outputs": [
    {
     "name": "stdout",
     "output_type": "stream",
     "text": [
      "Correlation Matrix:\n",
      "                            Food Product  Main Ingredient   Fat/Oil  \\\n",
      "Food Product                    1.000000         0.523192  0.175821   \n",
      "Main Ingredient                 0.523192         1.000000  0.116703   \n",
      "Fat/Oil                         0.175821         0.116703  1.000000   \n",
      "Seasoning                       0.086062        -0.002207  0.241896   \n",
      "Allergens                      -0.007044         0.077920 -0.411744   \n",
      "Price ($)                      -0.010911        -0.074400  0.005767   \n",
      "Customer rating (Out of 5)     -0.085068         0.004258 -0.072814   \n",
      "Prediction                      0.048272        -0.094763  0.334646   \n",
      "\n",
      "                            Seasoning  Allergens  Price ($)  \\\n",
      "Food Product                 0.086062  -0.007044  -0.010911   \n",
      "Main Ingredient             -0.002207   0.077920  -0.074400   \n",
      "Fat/Oil                      0.241896  -0.411744   0.005767   \n",
      "Seasoning                    1.000000  -0.154692   0.015911   \n",
      "Allergens                   -0.154692   1.000000   0.086290   \n",
      "Price ($)                    0.015911   0.086290   1.000000   \n",
      "Customer rating (Out of 5)   0.064806   0.074344   0.069642   \n",
      "Prediction                   0.064056  -0.567719  -0.029418   \n",
      "\n",
      "                            Customer rating (Out of 5)  Prediction  \n",
      "Food Product                                 -0.085068    0.048272  \n",
      "Main Ingredient                               0.004258   -0.094763  \n",
      "Fat/Oil                                      -0.072814    0.334646  \n",
      "Seasoning                                     0.064806    0.064056  \n",
      "Allergens                                     0.074344   -0.567719  \n",
      "Price ($)                                     0.069642   -0.029418  \n",
      "Customer rating (Out of 5)                    1.000000   -0.098962  \n",
      "Prediction                                   -0.098962    1.000000  \n",
      "Features dropped due to high correlation: set()\n"
     ]
    }
   ],
   "source": [
    "correlation_matrix = data.corr()\n",
    "print(\"Correlation Matrix:\")\n",
    "print(correlation_matrix)\n",
    "\n",
    "# Drop features with correlation > 0.9\n",
    "threshold = 0.9\n",
    "correlated_features = set(\n",
    "    correlation_matrix.columns[abs(correlation_matrix).gt(threshold).sum() > 1]\n",
    ")\n",
    "data = data.drop(columns=correlated_features)\n",
    "print(f\"Features dropped due to high correlation: {correlated_features}\")"
   ]
  },
  {
   "cell_type": "code",
   "execution_count": 18,
   "id": "6e60454c-bd72-4b80-a7bd-a9d2d7043950",
   "metadata": {},
   "outputs": [
    {
     "name": "stdout",
     "output_type": "stream",
     "text": [
      "Features Shape: (399, 7)\n",
      "Target Shape: (399,)\n"
     ]
    }
   ],
   "source": [
    "X = data.drop(columns=['Prediction'])  # Replace 'Prediction' with your actual target column\n",
    "y = data['Prediction']\n",
    "\n",
    "print(\"Features Shape:\", X.shape)\n",
    "print(\"Target Shape:\", y.shape)"
   ]
  },
  {
   "cell_type": "code",
   "execution_count": 20,
   "id": "e98e089a-b3c6-4f5d-b4c2-62176a962b0e",
   "metadata": {},
   "outputs": [
    {
     "name": "stdout",
     "output_type": "stream",
     "text": [
      "Processed dataset saved to processed_dataset.csv\n"
     ]
    }
   ],
   "source": [
    "# Save the processed dataset as a CSV file\n",
    "processed_file_path = 'processed_dataset.csv'\n",
    "data.to_csv(processed_file_path, index=False)\n",
    "print(f\"Processed dataset saved to {processed_file_path}\")\n"
   ]
  },
  {
   "cell_type": "code",
   "execution_count": null,
   "id": "54a8d259-d679-463d-af45-ceeb7cd31e68",
   "metadata": {},
   "outputs": [],
   "source": []
  }
 ],
 "metadata": {
  "kernelspec": {
   "display_name": "Python 3 (ipykernel)",
   "language": "python",
   "name": "python3"
  },
  "language_info": {
   "codemirror_mode": {
    "name": "ipython",
    "version": 3
   },
   "file_extension": ".py",
   "mimetype": "text/x-python",
   "name": "python",
   "nbconvert_exporter": "python",
   "pygments_lexer": "ipython3",
   "version": "3.12.4"
  }
 },
 "nbformat": 4,
 "nbformat_minor": 5
}
